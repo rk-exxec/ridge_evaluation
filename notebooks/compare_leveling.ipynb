{
 "cells": [
  {
   "cell_type": "markdown",
   "metadata": {},
   "source": [
    "## 3D Plots"
   ]
  },
  {
   "cell_type": "markdown",
   "metadata": {},
   "source": [
    "### 3D side by side"
   ]
  },
  {
   "cell_type": "code",
   "execution_count": 1,
   "metadata": {},
   "outputs": [
    {
     "name": "stdout",
     "output_type": "stream",
     "text": [
      "DIPlib -- a quantitative image analysis library\n",
      "Version 3.4.3 (Mar 21 2024)\n",
      "For more information see https://diplib.org\n"
     ]
    }
   ],
   "source": [
    "import os,sys\n",
    "sys.path.append('..')\n",
    "\n",
    "from matplotlib import pyplot as plt\n",
    "import matplotlib as mpl\n",
    "from pathlib import Path\n",
    "import numpy as np\n",
    "import pandas as pd\n",
    "import seaborn as sns\n",
    "import pickle\n",
    "from skimage.filters import gaussian\n",
    "from skimage.transform import rescale\n",
    "from plotly import graph_objects as go\n",
    "from plotly.subplots import make_subplots\n",
    "from ridge_eval.ridge_extractor import open_surface_img\n",
    "\n",
    "main_dir = Path(r\"D:\\Publications\\Paper4-Wetting-ridge\\test_data\\mult\")\n",
    "plot_out_dir = main_dir / \"level_compare\"\n",
    "\n",
    "plane_level_files = list((main_dir/\"plane_level\").glob(\"*.pkl.gz\"))\n",
    "polylevel_files = list((main_dir/\"polylevel\").glob(\"*.pkl.gz\"))\n",
    "polylevel3_files = list((main_dir/\"polylevel3\").glob(\"*.pkl.gz\"))\n",
    "flatten_base_files = list((main_dir/\"flatten_base\").glob(\"*.pkl.gz\"))\n",
    "nolevel_files = list((main_dir/\"nolevel\").glob(\"*.pkl.gz\"))\n",
    "\n",
    "\n",
    "images = {}\n",
    "rescale_factor = 8\n",
    "for nl, pl, ply, ply3, fb in zip(nolevel_files, plane_level_files, polylevel_files, polylevel3_files, flatten_base_files):\n",
    "    # if not \"80_S\" in str(file):\n",
    "    #     continue\n",
    "    assert nl.stem == pl.stem == ply.stem == fb.stem\n",
    "    nl_img, nl_px = open_surface_img(nl)\n",
    "    pl_img, pl_px = open_surface_img(pl)   \n",
    "    ply_img, ply_px = open_surface_img(ply)\n",
    "    ply3_img, ply3_px = open_surface_img(ply3)\n",
    "    fb_img, fl_px = open_surface_img(fb)\n",
    "\n",
    "    fig = make_subplots(\n",
    "        rows=1, cols=5, shared_xaxes=True, shared_yaxes=True, vertical_spacing=0, horizontal_spacing=0, \n",
    "        specs=[[{'type': 'surface'}, {'type': 'surface'}, {'type': 'surface'}, {'type': 'surface'}, {'type': 'surface'}]],\n",
    "        subplot_titles=[\"No Leveling\", \"Plane Leveling\", \"Poly Leveling\", \"polyleveling deg3\", \"Flatten Base\"]\n",
    "    )\n",
    "\n",
    "    def add_subplot(img, px, idx):\n",
    "        img = rescale(img, 1/rescale_factor, anti_aliasing=True)\n",
    "        # img -= img.mean()\n",
    "        img *= 1000\n",
    "        y = ((np.arange(img.shape[0])) * px[0] * rescale_factor)*1000\n",
    "        x = ((np.arange(img.shape[1])) * px[1] * rescale_factor)*1000\n",
    "        fig.add_trace(go.Surface(coloraxis=\"coloraxis\", z=img, x=x,y=y ),\n",
    "                        row=1, col=idx)\n",
    "    \n",
    "    add_subplot(nl_img, nl_px, 1)\n",
    "    add_subplot(pl_img, pl_px, 2)\n",
    "    add_subplot(ply_img, ply_px, 3)\n",
    "    add_subplot(ply3_img, ply3_px, 4)\n",
    "    add_subplot(fb_img, fl_px, 5)\n",
    "\n",
    "\n",
    "    fig.update_layout(#title=\"80_S\", autosize=True,\n",
    "                        width=2400, height=600,\n",
    "                        margin=dict(l=0, r=0, b=0, t=0),\n",
    "                        font_size=12,\n",
    "                        font_color=\"black\",\n",
    "                        font_family=\"Latin Modern\",\n",
    "    )\n",
    "\n",
    "    fig.update_coloraxes(colorscale='icefire', colorbar=dict(len=1, thickness=10, orientation = \"v\", xanchor=\"left\", x=0), \n",
    "                            colorbar_title=\"Surface Height <i>z</i> (mm)\", \n",
    "                            colorbar_title_side=\"top\", cmax=0.006, cmin=-0.006)\n",
    "\n",
    "\n",
    "    scene=dict(aspectmode=\"manual\", aspectratio=dict(x=1, y=1, z=0.2),\n",
    "                xaxis_title=\"x (mm)\",\n",
    "                yaxis_title=\"y (mm)\",\n",
    "                # zaxis_title=\"Height (mm)\",\n",
    "                zaxis = dict(nticks=2,  showticklabels=False, showaxeslabels=False, title_text=\"\"))#, range=[-0.0045,0.008]))\n",
    "\n",
    "    fig.update_layout(scene1=scene, scene2=scene, scene3=scene, scene4=scene, scene5=scene)\n",
    "\n",
    "    # fig.show()\n",
    "    # fig.write_html(str(plot_out_dir / \"figure2_3d_compare.html\"))\n",
    "    fig.write_image(str(plot_out_dir / nl.with_suffix(\".png\").name),scale=4)\n",
    "    # break"
   ]
  }
 ],
 "metadata": {
  "kernelspec": {
   "display_name": ".venv",
   "language": "python",
   "name": "python3"
  },
  "language_info": {
   "codemirror_mode": {
    "name": "ipython",
    "version": 3
   },
   "file_extension": ".py",
   "mimetype": "text/x-python",
   "name": "python",
   "nbconvert_exporter": "python",
   "pygments_lexer": "ipython3",
   "version": "3.12.4"
  }
 },
 "nbformat": 4,
 "nbformat_minor": 2
}
